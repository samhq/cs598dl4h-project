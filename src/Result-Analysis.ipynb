{
 "cells": [
  {
   "cell_type": "markdown",
   "id": "764e4618",
   "metadata": {},
   "source": [
    "# Analysis of the Result from All Models"
   ]
  },
  {
   "cell_type": "markdown",
   "id": "8e129258",
   "metadata": {},
   "source": [
    "List of models:\n",
    "- LR\n",
    "- ECC\n",
    "- RETAIN\n",
    "- LEAP\n",
    "- ~DMNC~ (Cannot run)\n",
    "- GAMENet\n",
    "- SafeDrug"
   ]
  },
  {
   "cell_type": "code",
   "execution_count": 1,
   "id": "08566edc",
   "metadata": {},
   "outputs": [],
   "source": [
    "import pickle\n",
    "import numpy as np\n",
    "import pandas as pd"
   ]
  },
  {
   "cell_type": "code",
   "execution_count": 10,
   "id": "3c18f46f-c753-4fcb-922e-b939ad8ed0c0",
   "metadata": {},
   "outputs": [],
   "source": [
    "def stats(d):\n",
    "    dct = {\n",
    "        'jaccard': { 'mean': np.mean(d['ja']), 'sd': np.std(d['ja']) },\n",
    "        'ddi_rate': { 'mean': np.mean(d['ddi_rate']), 'sd': np.std(d['ddi_rate']) },\n",
    "        'avg_p': { 'mean': np.mean(d['avg_p']), 'sd': np.std(d['avg_p']) }, \n",
    "        'avg_r': { 'mean': np.mean(d['avg_r']), 'sd': np.std(d['avg_r']) }, \n",
    "        'avg_f1': { 'mean': np.mean(d['avg_f1']), 'sd': np.std(d['avg_f1']) }, \n",
    "        'prauc': { 'mean': np.mean(d['prauc']), 'sd': np.std(d['prauc']) }, \n",
    "        'med': { 'mean': np.mean(d['med']), 'sd': np.std(d['med']) }\n",
    "    }\n",
    "    return dct\n",
    "\n",
    "def format_stats(d):\n",
    "    dd = stats(d)\n",
    "    dct = {}\n",
    "    for k, v in dd.items():\n",
    "        dct[k] = \"{:.4f} \\u00B1 {:.4f}\".format(v['mean'], v['sd'])\n",
    "    return dct\n",
    "\n",
    "def flats(d):\n",
    "    return {\n",
    "        'jaccard': d['jaccard'][0],\n",
    "        'ddi_rate': d['ddi_rate'][0],\n",
    "        'avg_p': d['avg_p'][0],\n",
    "        'avg_r': d['avg_r'][0],\n",
    "        'avg_f1': d['avg_f1'][0],\n",
    "        'prauc': d['prauc'][0],\n",
    "        'med': d['med'][0]\n",
    "    }\n",
    "\n",
    "def format_flats(d):\n",
    "    dd = flats(d)\n",
    "    dct = {}\n",
    "    for k, v in dd.items():\n",
    "        dct[k] = \"{:.4f}\".format(v)\n",
    "    return dct"
   ]
  },
  {
   "cell_type": "code",
   "execution_count": 11,
   "id": "df32b610",
   "metadata": {},
   "outputs": [],
   "source": [
    "lr = pickle.load(open('saved/LR/history.pkl', 'rb'))\n",
    "ecc = pickle.load(open('saved/ECC/history.pkl', 'rb'))\n",
    "retain = pickle.load(open('saved/Retain/history_Retain.pkl', 'rb'))\n",
    "leap = pickle.load(open('saved/Leap/history_Leap.pkl', 'rb'))\n",
    "gamenet = pickle.load(open('saved/GAMENet/history_GAMENet.pkl', 'rb'))\n",
    "safedrug = pickle.load(open('saved/SafeDrug/history_SafeDrug.pkl', 'rb'))"
   ]
  },
  {
   "cell_type": "code",
   "execution_count": 12,
   "id": "2720399e",
   "metadata": {},
   "outputs": [
    {
     "data": {
      "text/plain": [
       "defaultdict(list,\n",
       "            {'fittime': [284.9134564399719],\n",
       "             'pretime': [346.7924716472626],\n",
       "             'jaccard': [0.48997015384454545],\n",
       "             'ddi_rate': [0.07745666327848136],\n",
       "             'avg_p': [0.7226821497593763],\n",
       "             'avg_r': [0.6077673964740221],\n",
       "             'avg_f1': [0.6470246350838804],\n",
       "             'prauc': [0.7552892070704925],\n",
       "             'med': [16.471282051282053]})"
      ]
     },
     "execution_count": 12,
     "metadata": {},
     "output_type": "execute_result"
    }
   ],
   "source": [
    "lr"
   ]
  },
  {
   "cell_type": "code",
   "execution_count": 13,
   "id": "54f74df7",
   "metadata": {},
   "outputs": [],
   "source": [
    "# retain"
   ]
  },
  {
   "cell_type": "code",
   "execution_count": 14,
   "id": "da3a9673-7793-471d-9477-8a5d1c5c4892",
   "metadata": {},
   "outputs": [],
   "source": [
    "# stats(leap)"
   ]
  },
  {
   "cell_type": "code",
   "execution_count": 15,
   "id": "aaa126c3-0005-4390-9eb0-2bb2734213e4",
   "metadata": {},
   "outputs": [],
   "source": [
    "# stats(gamenet)"
   ]
  },
  {
   "cell_type": "code",
   "execution_count": 16,
   "id": "698dc7c0-0442-45c7-ad2d-6c2cb53aa799",
   "metadata": {},
   "outputs": [],
   "source": [
    "# format_stats(gamenet)"
   ]
  },
  {
   "cell_type": "code",
   "execution_count": 17,
   "id": "b7d62331-865b-4789-80ca-378af6a79e7d",
   "metadata": {},
   "outputs": [
    {
     "data": {
      "text/html": [
       "<div>\n",
       "<style scoped>\n",
       "    .dataframe tbody tr th:only-of-type {\n",
       "        vertical-align: middle;\n",
       "    }\n",
       "\n",
       "    .dataframe tbody tr th {\n",
       "        vertical-align: top;\n",
       "    }\n",
       "\n",
       "    .dataframe thead th {\n",
       "        text-align: right;\n",
       "    }\n",
       "</style>\n",
       "<table border=\"1\" class=\"dataframe\">\n",
       "  <thead>\n",
       "    <tr style=\"text-align: right;\">\n",
       "      <th></th>\n",
       "      <th>jaccard</th>\n",
       "      <th>ddi_rate</th>\n",
       "      <th>avg_p</th>\n",
       "      <th>avg_r</th>\n",
       "      <th>avg_f1</th>\n",
       "      <th>prauc</th>\n",
       "      <th>med</th>\n",
       "    </tr>\n",
       "  </thead>\n",
       "  <tbody>\n",
       "    <tr>\n",
       "      <th>LR</th>\n",
       "      <td>0.4900</td>\n",
       "      <td>0.0775</td>\n",
       "      <td>0.7227</td>\n",
       "      <td>0.6078</td>\n",
       "      <td>0.6470</td>\n",
       "      <td>0.7553</td>\n",
       "      <td>16.4713</td>\n",
       "    </tr>\n",
       "    <tr>\n",
       "      <th>ECC</th>\n",
       "      <td>0.4868</td>\n",
       "      <td>0.0806</td>\n",
       "      <td>0.7383</td>\n",
       "      <td>0.5969</td>\n",
       "      <td>0.6428</td>\n",
       "      <td>0.7602</td>\n",
       "      <td>16.0107</td>\n",
       "    </tr>\n",
       "    <tr>\n",
       "      <th>RETAIN</th>\n",
       "      <td>0.4711 ± 0.0140</td>\n",
       "      <td>0.0851 ± 0.0028</td>\n",
       "      <td>0.6958 ± 0.0211</td>\n",
       "      <td>0.6173 ± 0.0163</td>\n",
       "      <td>0.6337 ± 0.0129</td>\n",
       "      <td>0.7512 ± 0.0126</td>\n",
       "      <td>17.9925 ± 0.8751</td>\n",
       "    </tr>\n",
       "    <tr>\n",
       "      <th>LEAP</th>\n",
       "      <td>0.4369 ± 0.0117</td>\n",
       "      <td>0.0689 ± 0.0028</td>\n",
       "      <td>0.6260 ± 0.0125</td>\n",
       "      <td>0.6109 ± 0.0106</td>\n",
       "      <td>0.6002 ± 0.0116</td>\n",
       "      <td>0.6467 ± 0.0068</td>\n",
       "      <td>19.1096 ± 0.1240</td>\n",
       "    </tr>\n",
       "    <tr>\n",
       "      <th>GAMENet</th>\n",
       "      <td>0.4786 ± 0.0291</td>\n",
       "      <td>0.0840 ± 0.0067</td>\n",
       "      <td>0.5878 ± 0.0167</td>\n",
       "      <td>0.7349 ± 0.0403</td>\n",
       "      <td>0.6376 ± 0.0269</td>\n",
       "      <td>0.7385 ± 0.0256</td>\n",
       "      <td>24.8288 ± 1.0215</td>\n",
       "    </tr>\n",
       "    <tr>\n",
       "      <th>SafeDrug</th>\n",
       "      <td>0.4851 ± 0.0212</td>\n",
       "      <td>0.0615 ± 0.0026</td>\n",
       "      <td>0.6764 ± 0.0166</td>\n",
       "      <td>0.6441 ± 0.0252</td>\n",
       "      <td>0.6403 ± 0.0235</td>\n",
       "      <td>0.7396 ± 0.0226</td>\n",
       "      <td>19.0607 ± 0.5732</td>\n",
       "    </tr>\n",
       "  </tbody>\n",
       "</table>\n",
       "</div>"
      ],
      "text/plain": [
       "                  jaccard         ddi_rate            avg_p            avg_r  \\\n",
       "LR                 0.4900           0.0775           0.7227           0.6078   \n",
       "ECC                0.4868           0.0806           0.7383           0.5969   \n",
       "RETAIN    0.4711 ± 0.0140  0.0851 ± 0.0028  0.6958 ± 0.0211  0.6173 ± 0.0163   \n",
       "LEAP      0.4369 ± 0.0117  0.0689 ± 0.0028  0.6260 ± 0.0125  0.6109 ± 0.0106   \n",
       "GAMENet   0.4786 ± 0.0291  0.0840 ± 0.0067  0.5878 ± 0.0167  0.7349 ± 0.0403   \n",
       "SafeDrug  0.4851 ± 0.0212  0.0615 ± 0.0026  0.6764 ± 0.0166  0.6441 ± 0.0252   \n",
       "\n",
       "                   avg_f1            prauc               med  \n",
       "LR                 0.6470           0.7553           16.4713  \n",
       "ECC                0.6428           0.7602           16.0107  \n",
       "RETAIN    0.6337 ± 0.0129  0.7512 ± 0.0126  17.9925 ± 0.8751  \n",
       "LEAP      0.6002 ± 0.0116  0.6467 ± 0.0068  19.1096 ± 0.1240  \n",
       "GAMENet   0.6376 ± 0.0269  0.7385 ± 0.0256  24.8288 ± 1.0215  \n",
       "SafeDrug  0.6403 ± 0.0235  0.7396 ± 0.0226  19.0607 ± 0.5732  "
      ]
     },
     "execution_count": 17,
     "metadata": {},
     "output_type": "execute_result"
    }
   ],
   "source": [
    "all_d = {\n",
    "    'LR': format_flats(lr),\n",
    "    'ECC': format_flats(ecc),\n",
    "    'RETAIN': format_stats(retain),\n",
    "    'LEAP': format_stats(leap),\n",
    "    'GAMENet': format_stats(gamenet),\n",
    "    'SafeDrug': format_stats(safedrug)\n",
    "}\n",
    "\n",
    "pd.DataFrame(all_d).T"
   ]
  },
  {
   "cell_type": "markdown",
   "id": "589e25a3-5ae5-457f-8f8b-dd0e8159eba9",
   "metadata": {},
   "source": [
    "## Ablation testing"
   ]
  },
  {
   "cell_type": "code",
   "execution_count": 20,
   "id": "20624c95-0554-4822-b451-ad63f7a750e9",
   "metadata": {},
   "outputs": [],
   "source": [
    "sd_1 = pickle.load(open('saved/SafeDrug/history_SafeDrug_ablation_1.pkl', 'rb'))\n",
    "sd_2 = pickle.load(open('saved/SafeDrug/history_SafeDrug_ablation_2.pkl', 'rb'))\n",
    "sd_3 = pickle.load(open('saved/SafeDrug/history_SafeDrug_ablation_3.pkl', 'rb'))\n",
    "sd_4 = pickle.load(open('saved/SafeDrug/history_SafeDrug_ablation_4.pkl', 'rb'))\n",
    "sd_5 = pickle.load(open('saved/SafeDrug/history_SafeDrug_ablation_5.pkl', 'rb'))"
   ]
  },
  {
   "cell_type": "code",
   "execution_count": 22,
   "id": "1a6f4e25-46b2-4e7e-b14f-3f19b93ca90d",
   "metadata": {},
   "outputs": [
    {
     "data": {
      "text/html": [
       "<div>\n",
       "<style scoped>\n",
       "    .dataframe tbody tr th:only-of-type {\n",
       "        vertical-align: middle;\n",
       "    }\n",
       "\n",
       "    .dataframe tbody tr th {\n",
       "        vertical-align: top;\n",
       "    }\n",
       "\n",
       "    .dataframe thead th {\n",
       "        text-align: right;\n",
       "    }\n",
       "</style>\n",
       "<table border=\"1\" class=\"dataframe\">\n",
       "  <thead>\n",
       "    <tr style=\"text-align: right;\">\n",
       "      <th></th>\n",
       "      <th>jaccard</th>\n",
       "      <th>ddi_rate</th>\n",
       "      <th>avg_p</th>\n",
       "      <th>avg_r</th>\n",
       "      <th>avg_f1</th>\n",
       "      <th>prauc</th>\n",
       "      <th>med</th>\n",
       "    </tr>\n",
       "  </thead>\n",
       "  <tbody>\n",
       "    <tr>\n",
       "      <th>Abation 1</th>\n",
       "      <td>0.4211 ± 0.0071</td>\n",
       "      <td>0.0240 ± 0.0071</td>\n",
       "      <td>0.6105 ± 0.0274</td>\n",
       "      <td>0.6008 ± 0.0358</td>\n",
       "      <td>0.5844 ± 0.0064</td>\n",
       "      <td>0.6793 ± 0.0123</td>\n",
       "      <td>19.3800 ± 2.0774</td>\n",
       "    </tr>\n",
       "    <tr>\n",
       "      <th>Abation 2</th>\n",
       "      <td>0.4687 ± 0.0061</td>\n",
       "      <td>0.0447 ± 0.0032</td>\n",
       "      <td>0.6914 ± 0.0111</td>\n",
       "      <td>0.6064 ± 0.0134</td>\n",
       "      <td>0.6294 ± 0.0056</td>\n",
       "      <td>0.7282 ± 0.0039</td>\n",
       "      <td>17.4044 ± 0.6018</td>\n",
       "    </tr>\n",
       "    <tr>\n",
       "      <th>Abation 3</th>\n",
       "      <td>0.4440 ± 0.0126</td>\n",
       "      <td>0.0466 ± 0.0031</td>\n",
       "      <td>0.6682 ± 0.0245</td>\n",
       "      <td>0.5783 ± 0.0225</td>\n",
       "      <td>0.6036 ± 0.0151</td>\n",
       "      <td>0.6997 ± 0.0230</td>\n",
       "      <td>17.1075 ± 1.0902</td>\n",
       "    </tr>\n",
       "    <tr>\n",
       "      <th>Abation 4</th>\n",
       "      <td>0.4184 ± 0.0071</td>\n",
       "      <td>0.0494 ± 0.0077</td>\n",
       "      <td>0.6154 ± 0.0286</td>\n",
       "      <td>0.5864 ± 0.0252</td>\n",
       "      <td>0.5821 ± 0.0073</td>\n",
       "      <td>0.6980 ± 0.0071</td>\n",
       "      <td>18.7053 ± 1.6778</td>\n",
       "    </tr>\n",
       "    <tr>\n",
       "      <th>Abation 5</th>\n",
       "      <td>0.4110 ± 0.0141</td>\n",
       "      <td>0.0656 ± 0.0055</td>\n",
       "      <td>0.5954 ± 0.0269</td>\n",
       "      <td>0.5932 ± 0.0089</td>\n",
       "      <td>0.5745 ± 0.0148</td>\n",
       "      <td>0.6668 ± 0.0376</td>\n",
       "      <td>19.6280 ± 1.3323</td>\n",
       "    </tr>\n",
       "  </tbody>\n",
       "</table>\n",
       "</div>"
      ],
      "text/plain": [
       "                   jaccard         ddi_rate            avg_p            avg_r  \\\n",
       "Abation 1  0.4211 ± 0.0071  0.0240 ± 0.0071  0.6105 ± 0.0274  0.6008 ± 0.0358   \n",
       "Abation 2  0.4687 ± 0.0061  0.0447 ± 0.0032  0.6914 ± 0.0111  0.6064 ± 0.0134   \n",
       "Abation 3  0.4440 ± 0.0126  0.0466 ± 0.0031  0.6682 ± 0.0245  0.5783 ± 0.0225   \n",
       "Abation 4  0.4184 ± 0.0071  0.0494 ± 0.0077  0.6154 ± 0.0286  0.5864 ± 0.0252   \n",
       "Abation 5  0.4110 ± 0.0141  0.0656 ± 0.0055  0.5954 ± 0.0269  0.5932 ± 0.0089   \n",
       "\n",
       "                    avg_f1            prauc               med  \n",
       "Abation 1  0.5844 ± 0.0064  0.6793 ± 0.0123  19.3800 ± 2.0774  \n",
       "Abation 2  0.6294 ± 0.0056  0.7282 ± 0.0039  17.4044 ± 0.6018  \n",
       "Abation 3  0.6036 ± 0.0151  0.6997 ± 0.0230  17.1075 ± 1.0902  \n",
       "Abation 4  0.5821 ± 0.0073  0.6980 ± 0.0071  18.7053 ± 1.6778  \n",
       "Abation 5  0.5745 ± 0.0148  0.6668 ± 0.0376  19.6280 ± 1.3323  "
      ]
     },
     "execution_count": 22,
     "metadata": {},
     "output_type": "execute_result"
    }
   ],
   "source": [
    "all_ablations = {\n",
    "    'Abation 1': format_stats(sd_1),\n",
    "    'Abation 2': format_stats(sd_2),\n",
    "    'Abation 3': format_stats(sd_3),\n",
    "    'Abation 4': format_stats(sd_4),\n",
    "    'Abation 5': format_stats(sd_5)\n",
    "}\n",
    "\n",
    "pd.DataFrame(all_ablations).T"
   ]
  },
  {
   "cell_type": "code",
   "execution_count": null,
   "id": "4ad22368-a4de-4cd2-bc80-253bbc42d445",
   "metadata": {},
   "outputs": [],
   "source": []
  }
 ],
 "metadata": {
  "environment": {
   "kernel": "python3",
   "name": "pytorch-gpu.1-11.m91",
   "type": "gcloud",
   "uri": "gcr.io/deeplearning-platform-release/pytorch-gpu.1-11:m91"
  },
  "kernelspec": {
   "display_name": "Python 3",
   "language": "python",
   "name": "python3"
  },
  "language_info": {
   "codemirror_mode": {
    "name": "ipython",
    "version": 3
   },
   "file_extension": ".py",
   "mimetype": "text/x-python",
   "name": "python",
   "nbconvert_exporter": "python",
   "pygments_lexer": "ipython3",
   "version": "3.7.12"
  }
 },
 "nbformat": 4,
 "nbformat_minor": 5
}
