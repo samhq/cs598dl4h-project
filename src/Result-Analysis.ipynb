{
 "cells": [
  {
   "cell_type": "markdown",
   "id": "764e4618",
   "metadata": {},
   "source": [
    "# Analysis of the Result from All Models"
   ]
  },
  {
   "cell_type": "markdown",
   "id": "8e129258",
   "metadata": {},
   "source": [
    "List of models:\n",
    "- LR\n",
    "- ECC\n",
    "- RETAIN\n",
    "- LEAP\n",
    "- DMNC\n",
    "- GAMENet\n",
    "- SafeDrug"
   ]
  },
  {
   "cell_type": "code",
   "execution_count": 4,
   "id": "08566edc",
   "metadata": {},
   "outputs": [],
   "source": [
    "import pickle"
   ]
  },
  {
   "cell_type": "code",
   "execution_count": 5,
   "id": "df32b610",
   "metadata": {},
   "outputs": [],
   "source": [
    "lr = pickle.load(open('saved/LR/history.pkl', 'rb'))"
   ]
  },
  {
   "cell_type": "code",
   "execution_count": 6,
   "id": "2720399e",
   "metadata": {},
   "outputs": [
    {
     "data": {
      "text/plain": [
       "defaultdict(list,\n",
       "            {'fittime': [267.26029896736145],\n",
       "             'pretime': [313.7356381416321],\n",
       "             'jaccard': [0.4899787008530925],\n",
       "             'ddi_rate': [0.0774395164752142],\n",
       "             'avg_p': [0.7227018736252538],\n",
       "             'avg_r': [0.6077673964740221],\n",
       "             'avg_f1': [0.6470341317600439],\n",
       "             'prauc': [0.7552931515432827]})"
      ]
     },
     "execution_count": 6,
     "metadata": {},
     "output_type": "execute_result"
    }
   ],
   "source": [
    "lr"
   ]
  },
  {
   "cell_type": "code",
   "execution_count": null,
   "id": "54f74df7",
   "metadata": {},
   "outputs": [],
   "source": []
  }
 ],
 "metadata": {
  "kernelspec": {
   "display_name": "Python 3 (ipykernel)",
   "language": "python",
   "name": "python3"
  },
  "language_info": {
   "codemirror_mode": {
    "name": "ipython",
    "version": 3
   },
   "file_extension": ".py",
   "mimetype": "text/x-python",
   "name": "python",
   "nbconvert_exporter": "python",
   "pygments_lexer": "ipython3",
   "version": "3.9.7"
  }
 },
 "nbformat": 4,
 "nbformat_minor": 5
}
