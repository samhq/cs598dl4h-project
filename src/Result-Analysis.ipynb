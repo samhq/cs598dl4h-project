{
 "cells": [
  {
   "cell_type": "markdown",
   "id": "764e4618",
   "metadata": {},
   "source": [
    "# Analysis of the Result from All Models"
   ]
  },
  {
   "cell_type": "markdown",
   "id": "8e129258",
   "metadata": {},
   "source": [
    "List of models:\n",
    "- LR\n",
    "- ECC\n",
    "- RETAIN\n",
    "- LEAP\n",
    "- ~DMNC~ (Cannot run)\n",
    "- GAMENet\n",
    "- SafeDrug"
   ]
  },
  {
   "cell_type": "code",
   "execution_count": 96,
   "id": "08566edc",
   "metadata": {},
   "outputs": [],
   "source": [
    "import pickle\n",
    "import numpy as np\n",
    "import pandas as pd"
   ]
  },
  {
   "cell_type": "code",
   "execution_count": 97,
   "id": "3c18f46f-c753-4fcb-922e-b939ad8ed0c0",
   "metadata": {},
   "outputs": [],
   "source": [
    "def stats(d):\n",
    "    dct = {\n",
    "        'jaccard': { 'mean': np.mean(d['ja']), 'sd': np.std(d['ja']) },\n",
    "        'ddi_rate': { 'mean': np.mean(d['ddi_rate']), 'sd': np.std(d['ddi_rate']) },\n",
    "        'avg_p': { 'mean': np.mean(d['avg_p']), 'sd': np.std(d['avg_p']) }, \n",
    "        'avg_r': { 'mean': np.mean(d['avg_r']), 'sd': np.std(d['avg_r']) }, \n",
    "        'avg_f1': { 'mean': np.mean(d['avg_f1']), 'sd': np.std(d['avg_f1']) }, \n",
    "        'prauc': { 'mean': np.mean(d['prauc']), 'sd': np.std(d['prauc']) }, \n",
    "        'med': { 'mean': np.mean(d['med']), 'sd': np.std(d['med']) }\n",
    "    }\n",
    "    return dct\n",
    "\n",
    "def format_stats(d):\n",
    "    dd = stats(d)\n",
    "    dct = {}\n",
    "    for k, v in dd.items():\n",
    "        dct[k] = \"{:.4f} \\u00B1 {:.4f}\".format(v['mean'], v['sd'])\n",
    "    return dct\n",
    "\n",
    "def flats(d):\n",
    "    return {\n",
    "        'jaccard': d['jaccard'][0],\n",
    "        'ddi_rate': d['ddi_rate'][0],\n",
    "        'avg_p': d['avg_p'][0],\n",
    "        'avg_r': d['avg_r'][0],\n",
    "        'avg_f1': d['avg_f1'][0],\n",
    "        'prauc': d['prauc'][0],\n",
    "        'med': pd.NA\n",
    "    }\n",
    "\n",
    "def format_flats(d):\n",
    "    dd = flats(d)\n",
    "    dct = {}\n",
    "    for k, v in dd.items():\n",
    "        dct[k] = \"{:.4f}\".format(v)\n",
    "    return dct"
   ]
  },
  {
   "cell_type": "code",
   "execution_count": 100,
   "id": "df32b610",
   "metadata": {},
   "outputs": [],
   "source": [
    "lr = pickle.load(open('saved/LR/history.pkl', 'rb'))\n",
    "ecc = pickle.load(open('saved/ECC/history.pkl', 'rb'))\n",
    "retain = pickle.load(open('saved/Retain/history_Retain.pkl', 'rb'))\n",
    "leap = pickle.load(open('saved/Leap/history_Leap.pkl', 'rb'))\n",
    "gamenet = pickle.load(open('saved/GAMENet/history_GAMENet.pkl', 'rb'))\n",
    "safedrug = pickle.load(open('saved/SafeDrug/history_SafeDrug.pkl', 'rb'))"
   ]
  },
  {
   "cell_type": "code",
   "execution_count": 94,
   "id": "2720399e",
   "metadata": {},
   "outputs": [],
   "source": [
    "# lr"
   ]
  },
  {
   "cell_type": "code",
   "execution_count": 86,
   "id": "54f74df7",
   "metadata": {},
   "outputs": [],
   "source": [
    "# stats(retain)"
   ]
  },
  {
   "cell_type": "code",
   "execution_count": 87,
   "id": "da3a9673-7793-471d-9477-8a5d1c5c4892",
   "metadata": {},
   "outputs": [],
   "source": [
    "# stats(leap)"
   ]
  },
  {
   "cell_type": "code",
   "execution_count": 88,
   "id": "aaa126c3-0005-4390-9eb0-2bb2734213e4",
   "metadata": {},
   "outputs": [],
   "source": [
    "# stats(gamenet)"
   ]
  },
  {
   "cell_type": "code",
   "execution_count": 89,
   "id": "698dc7c0-0442-45c7-ad2d-6c2cb53aa799",
   "metadata": {},
   "outputs": [],
   "source": [
    "# format_stats(gamenet)"
   ]
  },
  {
   "cell_type": "code",
   "execution_count": 101,
   "id": "b7d62331-865b-4789-80ca-378af6a79e7d",
   "metadata": {},
   "outputs": [
    {
     "data": {
      "text/html": [
       "<div>\n",
       "<style scoped>\n",
       "    .dataframe tbody tr th:only-of-type {\n",
       "        vertical-align: middle;\n",
       "    }\n",
       "\n",
       "    .dataframe tbody tr th {\n",
       "        vertical-align: top;\n",
       "    }\n",
       "\n",
       "    .dataframe thead th {\n",
       "        text-align: right;\n",
       "    }\n",
       "</style>\n",
       "<table border=\"1\" class=\"dataframe\">\n",
       "  <thead>\n",
       "    <tr style=\"text-align: right;\">\n",
       "      <th></th>\n",
       "      <th>jaccard</th>\n",
       "      <th>ddi_rate</th>\n",
       "      <th>avg_p</th>\n",
       "      <th>avg_r</th>\n",
       "      <th>avg_f1</th>\n",
       "      <th>prauc</th>\n",
       "      <th>med</th>\n",
       "    </tr>\n",
       "  </thead>\n",
       "  <tbody>\n",
       "    <tr>\n",
       "      <th>LR</th>\n",
       "      <td>0.4900</td>\n",
       "      <td>0.0775</td>\n",
       "      <td>0.7227</td>\n",
       "      <td>0.6078</td>\n",
       "      <td>0.6470</td>\n",
       "      <td>0.7553</td>\n",
       "      <td>&lt;NA&gt;</td>\n",
       "    </tr>\n",
       "    <tr>\n",
       "      <th>ECC</th>\n",
       "      <td>0.4868</td>\n",
       "      <td>0.0806</td>\n",
       "      <td>0.7383</td>\n",
       "      <td>0.5969</td>\n",
       "      <td>0.6428</td>\n",
       "      <td>0.7602</td>\n",
       "      <td>&lt;NA&gt;</td>\n",
       "    </tr>\n",
       "    <tr>\n",
       "      <th>RETAIN</th>\n",
       "      <td>0.4711 ± 0.0140</td>\n",
       "      <td>0.0851 ± 0.0028</td>\n",
       "      <td>0.6958 ± 0.0211</td>\n",
       "      <td>0.6173 ± 0.0163</td>\n",
       "      <td>0.6337 ± 0.0129</td>\n",
       "      <td>0.7512 ± 0.0126</td>\n",
       "      <td>17.9925 ± 0.8751</td>\n",
       "    </tr>\n",
       "    <tr>\n",
       "      <th>LEAP</th>\n",
       "      <td>0.4369 ± 0.0117</td>\n",
       "      <td>0.0689 ± 0.0028</td>\n",
       "      <td>0.6260 ± 0.0125</td>\n",
       "      <td>0.6109 ± 0.0106</td>\n",
       "      <td>0.6002 ± 0.0116</td>\n",
       "      <td>0.6467 ± 0.0068</td>\n",
       "      <td>19.1096 ± 0.1240</td>\n",
       "    </tr>\n",
       "    <tr>\n",
       "      <th>GAMENet</th>\n",
       "      <td>0.4790 ± 0.0260</td>\n",
       "      <td>0.0836 ± 0.0067</td>\n",
       "      <td>0.5848 ± 0.0157</td>\n",
       "      <td>0.7402 ± 0.0374</td>\n",
       "      <td>0.6382 ± 0.0240</td>\n",
       "      <td>0.7393 ± 0.0247</td>\n",
       "      <td>25.1478 ± 1.1325</td>\n",
       "    </tr>\n",
       "    <tr>\n",
       "      <th>SafeDrug</th>\n",
       "      <td>0.5051 ± 0.0150</td>\n",
       "      <td>0.0627 ± 0.0023</td>\n",
       "      <td>0.6877 ± 0.0103</td>\n",
       "      <td>0.6670 ± 0.0199</td>\n",
       "      <td>0.6624 ± 0.0134</td>\n",
       "      <td>0.7604 ± 0.0117</td>\n",
       "      <td>19.3245 ± 0.5557</td>\n",
       "    </tr>\n",
       "  </tbody>\n",
       "</table>\n",
       "</div>"
      ],
      "text/plain": [
       "                  jaccard         ddi_rate            avg_p            avg_r  \\\n",
       "LR                 0.4900           0.0775           0.7227           0.6078   \n",
       "ECC                0.4868           0.0806           0.7383           0.5969   \n",
       "RETAIN    0.4711 ± 0.0140  0.0851 ± 0.0028  0.6958 ± 0.0211  0.6173 ± 0.0163   \n",
       "LEAP      0.4369 ± 0.0117  0.0689 ± 0.0028  0.6260 ± 0.0125  0.6109 ± 0.0106   \n",
       "GAMENet   0.4790 ± 0.0260  0.0836 ± 0.0067  0.5848 ± 0.0157  0.7402 ± 0.0374   \n",
       "SafeDrug  0.5051 ± 0.0150  0.0627 ± 0.0023  0.6877 ± 0.0103  0.6670 ± 0.0199   \n",
       "\n",
       "                   avg_f1            prauc               med  \n",
       "LR                 0.6470           0.7553              <NA>  \n",
       "ECC                0.6428           0.7602              <NA>  \n",
       "RETAIN    0.6337 ± 0.0129  0.7512 ± 0.0126  17.9925 ± 0.8751  \n",
       "LEAP      0.6002 ± 0.0116  0.6467 ± 0.0068  19.1096 ± 0.1240  \n",
       "GAMENet   0.6382 ± 0.0240  0.7393 ± 0.0247  25.1478 ± 1.1325  \n",
       "SafeDrug  0.6624 ± 0.0134  0.7604 ± 0.0117  19.3245 ± 0.5557  "
      ]
     },
     "execution_count": 101,
     "metadata": {},
     "output_type": "execute_result"
    }
   ],
   "source": [
    "all_d = {\n",
    "    'LR': format_flats(lr),\n",
    "    'ECC': format_flats(ecc),\n",
    "    'RETAIN': format_stats(retain),\n",
    "    'LEAP': format_stats(leap),\n",
    "    'GAMENet': format_stats(gamenet),\n",
    "    'SafeDrug': format_stats(safedrug)\n",
    "}\n",
    "        \n",
    "pd.DataFrame(all_d).T"
   ]
  },
  {
   "cell_type": "code",
   "execution_count": null,
   "id": "928569d6-8db4-4cac-8b1e-278c1b026de8",
   "metadata": {},
   "outputs": [],
   "source": []
  },
  {
   "cell_type": "code",
   "execution_count": null,
   "id": "20624c95-0554-4822-b451-ad63f7a750e9",
   "metadata": {},
   "outputs": [],
   "source": []
  }
 ],
 "metadata": {
  "environment": {
   "kernel": "python3",
   "name": "pytorch-gpu.1-11.m91",
   "type": "gcloud",
   "uri": "gcr.io/deeplearning-platform-release/pytorch-gpu.1-11:m91"
  },
  "kernelspec": {
   "display_name": "Python 3",
   "language": "python",
   "name": "python3"
  },
  "language_info": {
   "codemirror_mode": {
    "name": "ipython",
    "version": 3
   },
   "file_extension": ".py",
   "mimetype": "text/x-python",
   "name": "python",
   "nbconvert_exporter": "python",
   "pygments_lexer": "ipython3",
   "version": "3.7.12"
  }
 },
 "nbformat": 4,
 "nbformat_minor": 5
}
