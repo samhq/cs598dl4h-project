{
 "cells": [
  {
   "cell_type": "markdown",
   "id": "a509fb58-7f23-4c95-acf7-abca73c641f6",
   "metadata": {},
   "source": [
    "# Get Model Parameters"
   ]
  },
  {
   "cell_type": "code",
   "execution_count": 13,
   "id": "e9e30a0e-4524-40dd-9ce4-66f9a7e8ad0c",
   "metadata": {},
   "outputs": [],
   "source": [
    "import torch\n",
    "import torch.nn as nn\n",
    "from sklearn.metrics import jaccard_score, roc_auc_score, precision_score, f1_score, average_precision_score\n",
    "import numpy as np\n",
    "import dill\n",
    "import time\n",
    "import argparse\n",
    "from torch.nn import CrossEntropyLoss\n",
    "from torch.optim import Adam\n",
    "import os\n",
    "import torch.nn.functional as F\n",
    "from collections import defaultdict\n",
    "import sys\n",
    "sys.path.append(\"..\")\n",
    "from models import Retain, Leap, GAMENet, SafeDrugModel\n",
    "from util import llprint, multi_label_metric, ddi_rate_score, get_n_params, sequence_output_process, buildMPNN"
   ]
  },
  {
   "cell_type": "code",
   "execution_count": 14,
   "id": "5a7bd1d2-e812-41af-a600-2a33ddcf532b",
   "metadata": {},
   "outputs": [],
   "source": [
    "parameters = {}"
   ]
  },
  {
   "cell_type": "code",
   "execution_count": 15,
   "id": "6164e9ea-360c-497b-a9e7-e2bb3819cc0e",
   "metadata": {},
   "outputs": [],
   "source": [
    "# Retain\n",
    "# load data\n",
    "data_path = '../data/output/records_final.pkl'\n",
    "voc_path = '../data/output/voc_final.pkl'\n",
    "\n",
    "device = \"cuda\" if torch.cuda.is_available() else \"cpu\"\n",
    "# print(f\"Using {device} device\")\n",
    "\n",
    "data = dill.load(open(data_path, 'rb'))\n",
    "voc = dill.load(open(voc_path, 'rb'))\n",
    "diag_voc, pro_voc, med_voc = voc['diag_voc'], voc['pro_voc'], voc['med_voc']\n",
    "\n",
    "split_point = int(len(data) * 2 / 3)\n",
    "data_train = data[:split_point]\n",
    "eval_len = int(len(data[split_point:]) / 2)\n",
    "data_test = data[split_point:split_point + eval_len]\n",
    "data_eval = data[split_point+eval_len:]\n",
    "voc_size = (len(diag_voc.idx2word), len(pro_voc.idx2word), len(med_voc.idx2word))\n",
    "\n",
    "model = Retain(voc_size, device=device)\n",
    "\n",
    "# print('retain parameters:', get_n_params(model))\n",
    "parameters['retain'] = get_n_params(model)"
   ]
  },
  {
   "cell_type": "code",
   "execution_count": 16,
   "id": "b61e6b61-ed9e-462c-a32f-29e5b575b3b4",
   "metadata": {},
   "outputs": [],
   "source": [
    "# Leap\n",
    "# load data\n",
    "data_path = '../data/output/records_final.pkl'\n",
    "voc_path = '../data/output/voc_final.pkl'\n",
    "\n",
    "device = \"cuda\" if torch.cuda.is_available() else \"cpu\"\n",
    "# print(f\"Using {device} device\")\n",
    "\n",
    "data = dill.load(open(data_path, 'rb'))\n",
    "voc = dill.load(open(voc_path, 'rb'))\n",
    "diag_voc, pro_voc, med_voc = voc['diag_voc'], voc['pro_voc'], voc['med_voc']\n",
    "\n",
    "split_point = int(len(data) * 2 / 3)\n",
    "data_train = data[:split_point]\n",
    "eval_len = int(len(data[split_point:]) / 2)\n",
    "data_test = data[split_point:split_point + eval_len]\n",
    "data_eval = data[split_point+eval_len:]\n",
    "voc_size = (len(diag_voc.idx2word), len(pro_voc.idx2word), len(med_voc.idx2word))\n",
    "\n",
    "model = Leap(voc_size, device=device)\n",
    "\n",
    "# print('leap parameters:', get_n_params(model))\n",
    "parameters['leap'] = get_n_params(model)"
   ]
  },
  {
   "cell_type": "code",
   "execution_count": 17,
   "id": "c108a584-cf31-407e-a159-0383a0b80245",
   "metadata": {},
   "outputs": [],
   "source": [
    "# GAMENet\n",
    "data_path = '../data/output/records_final.pkl'\n",
    "voc_path = '../data/output/voc_final.pkl'\n",
    "\n",
    "ehr_adj_path = '../data/output/ehr_adj_final.pkl'\n",
    "ddi_adj_path = '../data/output/ddi_A_final.pkl'\n",
    "\n",
    "device = \"cuda\" if torch.cuda.is_available() else \"cpu\"\n",
    "# print(f\"Using {device} device\")\n",
    "\n",
    "ehr_adj = dill.load(open(ehr_adj_path, 'rb'))\n",
    "ddi_adj = dill.load(open(ddi_adj_path, 'rb'))\n",
    "data = dill.load(open(data_path, 'rb'))\n",
    "\n",
    "voc = dill.load(open(voc_path, 'rb'))\n",
    "diag_voc, pro_voc, med_voc = voc['diag_voc'], voc['pro_voc'], voc['med_voc']\n",
    "\n",
    "    # np.random.seed(2048)\n",
    "    # np.random.shuffle(data)\n",
    "split_point = int(len(data) * 2 / 3)\n",
    "data_train = data[:split_point]\n",
    "eval_len = int(len(data[split_point:]) / 2)\n",
    "data_test = data[split_point:split_point + eval_len]\n",
    "data_eval = data[split_point+eval_len:]\n",
    "\n",
    "voc_size = (len(diag_voc.idx2word), len(pro_voc.idx2word), len(med_voc.idx2word))\n",
    "model = GAMENet(voc_size, ehr_adj, ddi_adj, emb_dim=64, device=device, ddi_in_memory=True)\n",
    "    \n",
    "# print('gamenet parameters:', get_n_params(model))\n",
    "parameters['gamenet'] = get_n_params(model)"
   ]
  },
  {
   "cell_type": "code",
   "execution_count": 18,
   "id": "200037a0-3fdf-4220-a758-38fdeed8af73",
   "metadata": {},
   "outputs": [],
   "source": [
    "# SafeDrugModel\n",
    "# load data\n",
    "data_path = '../data/output/records_final.pkl'\n",
    "voc_path = '../data/output/voc_final.pkl'\n",
    "\n",
    "ddi_adj_path = '../data/output/ddi_A_final.pkl'\n",
    "ddi_mask_path = '../data/output/ddi_mask_H.pkl'\n",
    "molecule_path = '../data/output/atc3toSMILES.pkl'\n",
    "\n",
    "device = \"cuda\" if torch.cuda.is_available() else \"cpu\"\n",
    "# print(f\"Using {device} device\")\n",
    "\n",
    "ddi_adj = dill.load(open(ddi_adj_path, 'rb'))\n",
    "ddi_mask_H = dill.load(open(ddi_mask_path, 'rb'))\n",
    "data = dill.load(open(data_path, 'rb'))\n",
    "molecule = dill.load(open(molecule_path, 'rb')) \n",
    "\n",
    "voc = dill.load(open(voc_path, 'rb'))\n",
    "diag_voc, pro_voc, med_voc = voc['diag_voc'], voc['pro_voc'], voc['med_voc']\n",
    "\n",
    "split_point = int(len(data) * 2 / 3)\n",
    "data_train = data[:split_point]\n",
    "eval_len = int(len(data[split_point:]) / 2)\n",
    "data_test = data[split_point:split_point + eval_len]    \n",
    "data_eval = data[split_point+eval_len:]\n",
    "\n",
    "MPNNSet, N_fingerprint, average_projection = buildMPNN(molecule, med_voc.idx2word, 2, device)\n",
    "voc_size = (len(diag_voc.idx2word), len(pro_voc.idx2word), len(med_voc.idx2word))\n",
    "\n",
    "model = SafeDrugModel(voc_size, ddi_adj, ddi_mask_H, MPNNSet, N_fingerprint, average_projection, emb_dim=64, device=device)\n",
    "\n",
    "# print('safedrug parameters:', get_n_params(model))\n",
    "parameters['safedrug'] = get_n_params(model)"
   ]
  },
  {
   "cell_type": "code",
   "execution_count": 19,
   "id": "90750e0d-09b5-4216-a920-76bbd727478e",
   "metadata": {},
   "outputs": [
    {
     "data": {
      "text/plain": [
       "{'retain': 285489, 'leap': 177395, 'gamenet': 444209, 'safedrug': 368777}"
      ]
     },
     "execution_count": 19,
     "metadata": {},
     "output_type": "execute_result"
    }
   ],
   "source": [
    "parameters"
   ]
  },
  {
   "cell_type": "code",
   "execution_count": null,
   "id": "31a8fac7-1c26-4ee9-900d-70b250926679",
   "metadata": {},
   "outputs": [],
   "source": []
  }
 ],
 "metadata": {
  "environment": {
   "kernel": "python3",
   "name": "pytorch-gpu.1-11.m91",
   "type": "gcloud",
   "uri": "gcr.io/deeplearning-platform-release/pytorch-gpu.1-11:m91"
  },
  "kernelspec": {
   "display_name": "Python 3",
   "language": "python",
   "name": "python3"
  },
  "language_info": {
   "codemirror_mode": {
    "name": "ipython",
    "version": 3
   },
   "file_extension": ".py",
   "mimetype": "text/x-python",
   "name": "python",
   "nbconvert_exporter": "python",
   "pygments_lexer": "ipython3",
   "version": "3.7.12"
  }
 },
 "nbformat": 4,
 "nbformat_minor": 5
}
